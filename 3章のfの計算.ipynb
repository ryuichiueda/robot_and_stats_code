{
 "cells": [
  {
   "cell_type": "code",
   "execution_count": 1,
   "id": "92763493",
   "metadata": {},
   "outputs": [],
   "source": [
    "from fractions import Fraction\n",
    "\n",
    "def f(i,j,n):\n",
    "    if i==0:\n",
    "        return 1 if j==0 else 0\n",
    "    \n",
    "    return Fraction(n - 5 + j, n) * f(i-1, j, n) \\\n",
    "           + Fraction(5 - j + 1, n) * f(i-1,j-1, n)"
   ]
  },
  {
   "cell_type": "code",
   "execution_count": 8,
   "id": "9e345736",
   "metadata": {},
   "outputs": [
    {
     "data": {
      "text/plain": [
       "1.1310953125"
      ]
     },
     "execution_count": 8,
     "metadata": {},
     "output_type": "execute_result"
    }
   ],
   "source": [
    "n=20\n",
    "float(5*f(5,5,n) + 4*f(5,4,n) + 3*f(5,3,n) + 2*f(5,2,n) + f(5,1,n))"
   ]
  }
 ],
 "metadata": {
  "kernelspec": {
   "display_name": "Python 3 (ipykernel)",
   "language": "python",
   "name": "python3"
  },
  "language_info": {
   "codemirror_mode": {
    "name": "ipython",
    "version": 3
   },
   "file_extension": ".py",
   "mimetype": "text/x-python",
   "name": "python",
   "nbconvert_exporter": "python",
   "pygments_lexer": "ipython3",
   "version": "3.10.6"
  }
 },
 "nbformat": 4,
 "nbformat_minor": 5
}
