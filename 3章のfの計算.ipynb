{
 "cells": [
  {
   "cell_type": "code",
   "execution_count": 38,
   "id": "92763493",
   "metadata": {},
   "outputs": [],
   "source": [
    "from fractions import Fraction\n",
    "\n",
    "def f(i,j,n):\n",
    "    if i==0:\n",
    "        return 1 if j==0 else 0\n",
    "    \n",
    "    return Fraction(100 - n + j, 100 -i + 1) * f(i-1, j, n) \\\n",
    "           + Fraction(n - j + 1, 100 -i + 1) * f(i-1,j-1, n)"
   ]
  },
  {
   "cell_type": "code",
   "execution_count": 51,
   "id": "ed8b17ed",
   "metadata": {},
   "outputs": [
    {
     "data": {
      "text/plain": [
       "0.362698448118183"
      ]
     },
     "execution_count": 51,
     "metadata": {},
     "output_type": "execute_result"
    }
   ],
   "source": [
    "n=20\n",
    "float(f(5,0,n))"
   ]
  },
  {
   "cell_type": "code",
   "execution_count": 43,
   "id": "9e345736",
   "metadata": {},
   "outputs": [
    {
     "data": {
      "text/plain": [
       "Fraction(490099501, 1806900480)"
      ]
     },
     "execution_count": 43,
     "metadata": {},
     "output_type": "execute_result"
    }
   ],
   "source": [
    "n=5\n",
    "5*f(5,5,n) + 4*f(5,4,n) + 3*f(5,3,n) + 2*f(5,2,n) + f(5,1,n)\n"
   ]
  },
  {
   "cell_type": "code",
   "execution_count": 44,
   "id": "e0fbf526",
   "metadata": {},
   "outputs": [
    {
     "data": {
      "text/plain": [
       "0.2450497505"
      ]
     },
     "execution_count": 44,
     "metadata": {},
     "output_type": "execute_result"
    }
   ],
   "source": [
    "\n",
    "float(Fraction(490099501, 2000000000))"
   ]
  },
  {
   "cell_type": "code",
   "execution_count": 45,
   "id": "7cddef9b",
   "metadata": {},
   "outputs": [
    {
     "data": {
      "text/plain": [
       "1.0849507350842034"
      ]
     },
     "execution_count": 45,
     "metadata": {},
     "output_type": "execute_result"
    }
   ],
   "source": [
    "n=20\n",
    "float(5*f(5,5,n) + 4*f(5,4,n) + 3*f(5,3,n) + 2*f(5,2,n) + f(5,1,n))\n"
   ]
  },
  {
   "cell_type": "code",
   "execution_count": 46,
   "id": "75c6e9ca",
   "metadata": {},
   "outputs": [
    {
     "data": {
      "text/plain": [
       "0.22354631285503893"
      ]
     },
     "execution_count": 46,
     "metadata": {},
     "output_type": "execute_result"
    }
   ],
   "source": [
    "float(f(5,2,n))"
   ]
  },
  {
   "cell_type": "code",
   "execution_count": 47,
   "id": "1baceb19",
   "metadata": {},
   "outputs": [
    {
     "data": {
      "text/plain": [
       "0.362698448118183"
      ]
     },
     "execution_count": 47,
     "metadata": {},
     "output_type": "execute_result"
    }
   ],
   "source": [
    "n=20\n",
    "float(f(5,0,n))"
   ]
  },
  {
   "cell_type": "code",
   "execution_count": null,
   "id": "a84542a6",
   "metadata": {},
   "outputs": [],
   "source": []
  }
 ],
 "metadata": {
  "kernelspec": {
   "display_name": "Python 3 (ipykernel)",
   "language": "python",
   "name": "python3"
  },
  "language_info": {
   "codemirror_mode": {
    "name": "ipython",
    "version": 3
   },
   "file_extension": ".py",
   "mimetype": "text/x-python",
   "name": "python",
   "nbconvert_exporter": "python",
   "pygments_lexer": "ipython3",
   "version": "3.10.4"
  }
 },
 "nbformat": 4,
 "nbformat_minor": 5
}
