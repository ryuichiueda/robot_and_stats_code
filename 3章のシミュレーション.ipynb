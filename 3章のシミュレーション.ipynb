{
 "cells": [
  {
   "cell_type": "code",
   "execution_count": 37,
   "id": "92763493",
   "metadata": {},
   "outputs": [],
   "source": [
    "import random\n",
    "\n",
    "def game(n):\n",
    "    return [random.randint(1,n) for _ in range(5) ]\n",
    "\n",
    "def score(g):\n",
    "    return len(list(filter(lambda n: n <= 5, set(g))))"
   ]
  },
  {
   "cell_type": "code",
   "execution_count": 50,
   "id": "b319311a",
   "metadata": {},
   "outputs": [
    {
     "name": "stdout",
     "output_type": "stream",
     "text": [
      "[19, 18, 10, 11, 11] 0\n"
     ]
    }
   ],
   "source": [
    "g = game(20)\n",
    "s = score(g)\n",
    "\n",
    "print(g,s)"
   ]
  },
  {
   "cell_type": "code",
   "execution_count": null,
   "id": "c535d702",
   "metadata": {},
   "outputs": [],
   "source": []
  }
 ],
 "metadata": {
  "kernelspec": {
   "display_name": "Python 3 (ipykernel)",
   "language": "python",
   "name": "python3"
  },
  "language_info": {
   "codemirror_mode": {
    "name": "ipython",
    "version": 3
   },
   "file_extension": ".py",
   "mimetype": "text/x-python",
   "name": "python",
   "nbconvert_exporter": "python",
   "pygments_lexer": "ipython3",
   "version": "3.10.6"
  }
 },
 "nbformat": 4,
 "nbformat_minor": 5
}
