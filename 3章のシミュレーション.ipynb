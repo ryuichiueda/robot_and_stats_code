{
 "cells": [
  {
   "cell_type": "code",
   "execution_count": 38,
   "id": "92763493",
   "metadata": {},
   "outputs": [
    {
     "name": "stdout",
     "output_type": "stream",
     "text": [
      "[3, 12, 6, 3, 4] 2\n"
     ]
    }
   ],
   "source": [
    "import random\n",
    "\n",
    "def game(n):\n",
    "    return [random.randint(1,n) for _ in range(5) ]\n",
    "\n",
    "def score(g):\n",
    "    return len(list(filter(lambda n: n <= 5, set(g))))\n",
    "\n",
    "g = game(20)\n",
    "s = score(g)\n",
    "\n",
    "print(g,s)"
   ]
  },
  {
   "cell_type": "code",
   "execution_count": 28,
   "id": "c535d702",
   "metadata": {},
   "outputs": [],
   "source": [
    "results = [score(game(20)) for _ in range(10000)]"
   ]
  },
  {
   "cell_type": "code",
   "execution_count": 29,
   "id": "641b4d2d",
   "metadata": {},
   "outputs": [
    {
     "data": {
      "text/plain": [
       "1.1301"
      ]
     },
     "execution_count": 29,
     "metadata": {},
     "output_type": "execute_result"
    }
   ],
   "source": [
    "sum(results)/len(results)"
   ]
  },
  {
   "cell_type": "code",
   "execution_count": null,
   "id": "35f4199c",
   "metadata": {},
   "outputs": [],
   "source": []
  }
 ],
 "metadata": {
  "kernelspec": {
   "display_name": "Python 3 (ipykernel)",
   "language": "python",
   "name": "python3"
  },
  "language_info": {
   "codemirror_mode": {
    "name": "ipython",
    "version": 3
   },
   "file_extension": ".py",
   "mimetype": "text/x-python",
   "name": "python",
   "nbconvert_exporter": "python",
   "pygments_lexer": "ipython3",
   "version": "3.10.6"
  }
 },
 "nbformat": 4,
 "nbformat_minor": 5
}
