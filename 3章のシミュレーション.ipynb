{
 "cells": [
  {
   "cell_type": "code",
   "execution_count": 1,
   "id": "92763493",
   "metadata": {},
   "outputs": [],
   "source": [
    "import random, math\n",
    "\n",
    "def nearest(px, py, tgt):\n",
    "    min_i = 0\n",
    "    min_dd = 10000000000\n",
    "    for (i, t) in enumerate(tgt):\n",
    "        dd = (t[0]-px)**2 + (t[1]-py)**2\n",
    "        if dd < min_dd:\n",
    "            min_i = i\n",
    "            min_dd = dd\n",
    "    \n",
    "    #print(min_i, math.sqrt(min_dd), px, py, tgt)\n",
    "    \n",
    "    return min_i, math.sqrt(min_dd)\n",
    "        \n",
    "\n",
    "def trial(tgt):\n",
    "    x = random.randrange(-210, 210, 1)\n",
    "    y = random.randrange(-135, 135, 1)\n",
    "    \n",
    "    i, d = nearest(x,y, tgt)\n",
    "    \n",
    "    if d <= 50:\n",
    "        tgt[i][0] = 1000000000000000\n",
    "        tgt[i][1] = 1000000000000000\n",
    "        return 150 - d, 1\n",
    "    \n",
    "    return 0, 0\n",
    "    \n",
    "    \n",
    "\n",
    "def game():\n",
    "    target = []\n",
    "    while len(target) < 5:\n",
    "        x = random.randrange(-210, 210, 10)\n",
    "        y = random.randrange(-135, 135, 10)\n",
    "        \n",
    "        ok = True\n",
    "        for a in target:\n",
    "            dd = (x - a[0])**2 + (y - a[1])**2\n",
    "            if dd < 2500:\n",
    "                ok = False\n",
    "                break\n",
    "                \n",
    "        if ok:\n",
    "            target.append([x,y])\n",
    "            \n",
    "#    wid = 84;\n",
    " #   target_x = [random.randrange(wid*e-210, wid*e-210+wid, 10) for e in range(5) ]\n",
    "#    target_y = [random.randrange(-135, 135, 10)*1.0 for _ in range(5) ]\n",
    "#    target = [[x,y] for (x,y) in zip(target_x, target_y)]\n",
    "    \n",
    "    #print(target)\n",
    "    \n",
    "    score = 0\n",
    "    onit = 0\n",
    "    for i in range(5):\n",
    "        t = trial(target)\n",
    "        score += t[0]\n",
    "        onit += t[1]\n",
    "        \n",
    "    return (score, onit)"
   ]
  },
  {
   "cell_type": "code",
   "execution_count": 4,
   "id": "c535d702",
   "metadata": {},
   "outputs": [
    {
     "data": {
      "text/plain": [
       "(252.33004105476445, 2)"
      ]
     },
     "execution_count": 4,
     "metadata": {},
     "output_type": "execute_result"
    }
   ],
   "source": [
    "game()"
   ]
  },
  {
   "cell_type": "code",
   "execution_count": 32,
   "id": "641b4d2d",
   "metadata": {},
   "outputs": [],
   "source": [
    "scores = []\n",
    "onits = []\n",
    "\n",
    "\n",
    "for i in range(10000):\n",
    "    g = game()\n",
    "    scores.append(g[0])\n",
    "    onits.append(g[1])"
   ]
  },
  {
   "cell_type": "code",
   "execution_count": 33,
   "id": "35f4199c",
   "metadata": {},
   "outputs": [
    {
     "data": {
      "text/plain": [
       "151.10350434174356"
      ]
     },
     "execution_count": 33,
     "metadata": {},
     "output_type": "execute_result"
    }
   ],
   "source": [
    "import numpy as np\n",
    "\n",
    "np.mean(scores)"
   ]
  },
  {
   "cell_type": "code",
   "execution_count": 35,
   "id": "e2a5315c",
   "metadata": {},
   "outputs": [
    {
     "data": {
      "text/plain": [
       "1.2819"
      ]
     },
     "execution_count": 35,
     "metadata": {},
     "output_type": "execute_result"
    }
   ],
   "source": [
    "\n",
    "np.mean(onits)"
   ]
  },
  {
   "cell_type": "code",
   "execution_count": 34,
   "id": "accb2850",
   "metadata": {},
   "outputs": [
    {
     "data": {
      "text/plain": [
       "103.81912404334692"
      ]
     },
     "execution_count": 34,
     "metadata": {},
     "output_type": "execute_result"
    }
   ],
   "source": [
    "np.std(scores)"
   ]
  },
  {
   "cell_type": "code",
   "execution_count": 36,
   "id": "607a2dea",
   "metadata": {},
   "outputs": [
    {
     "data": {
      "text/plain": [
       "0.8735172522623694"
      ]
     },
     "execution_count": 36,
     "metadata": {},
     "output_type": "execute_result"
    }
   ],
   "source": [
    "np.std(onits)"
   ]
  },
  {
   "cell_type": "code",
   "execution_count": 38,
   "id": "435b102b",
   "metadata": {},
   "outputs": [
    {
     "data": {
      "text/plain": [
       "1873"
      ]
     },
     "execution_count": 38,
     "metadata": {},
     "output_type": "execute_result"
    }
   ],
   "source": [
    "zero = 0\n",
    "for e in onits:\n",
    "    if e == 0:\n",
    "        zero += 1\n",
    "    \n",
    "zero"
   ]
  },
  {
   "cell_type": "code",
   "execution_count": null,
   "id": "475dd784",
   "metadata": {},
   "outputs": [],
   "source": []
  }
 ],
 "metadata": {
  "kernelspec": {
   "display_name": "Python 3 (ipykernel)",
   "language": "python",
   "name": "python3"
  },
  "language_info": {
   "codemirror_mode": {
    "name": "ipython",
    "version": 3
   },
   "file_extension": ".py",
   "mimetype": "text/x-python",
   "name": "python",
   "nbconvert_exporter": "python",
   "pygments_lexer": "ipython3",
   "version": "3.10.6"
  }
 },
 "nbformat": 4,
 "nbformat_minor": 5
}
