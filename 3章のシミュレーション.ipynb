{
 "cells": [
  {
   "cell_type": "code",
   "execution_count": 7,
   "id": "92763493",
   "metadata": {},
   "outputs": [],
   "source": [
    "import random\n",
    "\n",
    "def draw(n):\n",
    "    return random.randint(1,n)"
   ]
  },
  {
   "cell_type": "code",
   "execution_count": 13,
   "id": "b180bb67",
   "metadata": {},
   "outputs": [
    {
     "data": {
      "text/plain": [
       "[17, 1, 7, 8, 7]"
      ]
     },
     "execution_count": 13,
     "metadata": {},
     "output_type": "execute_result"
    }
   ],
   "source": [
    "game = [draw(20) for i in range(5)]\n",
    "game"
   ]
  },
  {
   "cell_type": "code",
   "execution_count": null,
   "id": "71a11577",
   "metadata": {},
   "outputs": [],
   "source": []
  }
 ],
 "metadata": {
  "kernelspec": {
   "display_name": "Python 3 (ipykernel)",
   "language": "python",
   "name": "python3"
  },
  "language_info": {
   "codemirror_mode": {
    "name": "ipython",
    "version": 3
   },
   "file_extension": ".py",
   "mimetype": "text/x-python",
   "name": "python",
   "nbconvert_exporter": "python",
   "pygments_lexer": "ipython3",
   "version": "3.10.6"
  }
 },
 "nbformat": 4,
 "nbformat_minor": 5
}
