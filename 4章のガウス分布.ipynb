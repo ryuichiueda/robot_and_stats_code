{
 "cells": [
  {
   "cell_type": "code",
   "execution_count": 1,
   "metadata": {},
   "outputs": [
    {
     "data": {
      "text/plain": [
       "Text(0, 0.5, 'y')"
      ]
     },
     "execution_count": 1,
     "metadata": {},
     "output_type": "execute_result"
    },
    {
     "data": {
      "image/png": "[encoded data removed]",
      "text/plain": [
       "<Figure size 432x288 with 1 Axes>"
      ]
     },
     "metadata": {
      "needs_background": "light"
     },
     "output_type": "display_data"
    }
   ],
   "source": [
    "%matplotlib inline \n",
    "import matplotlib.pyplot as plt\n",
    "import numpy as np                  \n",
    "from scipy.stats import multivariate_normal \n",
    "import math\n",
    "\n",
    "x, y = np.mgrid[0:5:0.01, -1:2:0.01]\n",
    "pos = np.empty(x.shape + (2,))\n",
    "pos[:, :, 0] = x \n",
    "pos[:, :, 1] = y\n",
    "\n",
    "a = multivariate_normal(mean=[3.88,0.51], cov=[[0.016, -0.029], [-0.029, 0.197]])\n",
    "\n",
    "plt.contour(x, y, a.pdf(pos)) \n",
    "\n",
    "plt.gca().set_aspect('equal')\n",
    "plt.gca().set_xlabel('x')\n",
    "plt.gca().set_ylabel('y')"
   ]
  },
  {
   "cell_type": "code",
   "execution_count": 2,
   "metadata": {},
   "outputs": [
    {
     "name": "stdout",
     "output_type": "stream",
     "text": [
      "eig_vals:  [0.01146711 0.20153289]\n",
      "eig_vec:  [[-0.98800352  0.15443139]\n",
      " [-0.15443139 -0.98800352]]\n",
      "固有ベクトル1:  [-0.98800352 -0.15443139]\n",
      "固有ベクトル2:  [ 0.15443139 -0.98800352]\n"
     ]
    }
   ],
   "source": [
    "eig_vals, eig_vec = np.linalg.eig(a.cov)\n",
    "\n",
    "print(\"eig_vals: \", eig_vals)\n",
    "print(\"eig_vec: \", eig_vec)\n",
    "print(\"固有ベクトル1: \", eig_vec[:,0])   #eig_vecの縦の列が固有ベクトルに対応\n",
    "print(\"固有ベクトル2: \", eig_vec[:,1])"
   ]
  },
  {
   "cell_type": "code",
   "execution_count": 3,
   "metadata": {},
   "outputs": [
    {
     "data": {
      "image/png": "[encoded data removed]",
      "text/plain": [
       "<Figure size 432x288 with 1 Axes>"
      ]
     },
     "metadata": {
      "needs_background": "light"
     },
     "output_type": "display_data"
    }
   ],
   "source": [
    "plt.contour(x, y, a.pdf(pos)) \n",
    "\n",
    "v = 2*math.sqrt(eig_vals[0])*eig_vec[:,0]\n",
    "plt.quiver(a.mean[0], a.mean[1], v[0], v[1], color=\"red\", angles='xy', scale_units='xy', scale=1)\n",
    "\n",
    "v = 2*math.sqrt(eig_vals[1])*eig_vec[:,1]\n",
    "plt.quiver(a.mean[0], a.mean[1], v[0], v[1], color=\"blue\", angles='xy', scale_units='xy', scale=1)\n",
    "\n",
    "plt.gca().set_aspect('equal')\n",
    "plt.show()"
   ]
  },
  {
   "cell_type": "code",
   "execution_count": 15,
   "metadata": {},
   "outputs": [
    {
     "data": {
      "text/plain": [
       "0.011467110956258936"
      ]
     },
     "execution_count": 15,
     "metadata": {},
     "output_type": "execute_result"
    }
   ],
   "source": [
    "(213 -17*np.sqrt(125) )/2000"
   ]
  },
  {
   "cell_type": "code",
   "execution_count": 17,
   "metadata": {},
   "outputs": [
    {
     "data": {
      "text/plain": [
       "0.9880035150732076"
      ]
     },
     "execution_count": 17,
     "metadata": {},
     "output_type": "execute_result"
    }
   ],
   "source": [
    "(58) / np.sqrt(58**2+ ( -181 + 17*np.sqrt(125))**2)"
   ]
  },
  {
   "cell_type": "code",
   "execution_count": 30,
   "metadata": {},
   "outputs": [
    {
     "data": {
      "text/plain": [
       "-81.11792561471377"
      ]
     },
     "execution_count": 30,
     "metadata": {},
     "output_type": "execute_result"
    }
   ],
   "source": [
    "np.arctan2(-0.9880, 0.1544)/np.pi*180"
   ]
  },
  {
   "cell_type": "code",
   "execution_count": 32,
   "metadata": {},
   "outputs": [
    {
     "data": {
      "text/plain": [
       "98.88512427022808"
      ]
     },
     "execution_count": 32,
     "metadata": {},
     "output_type": "execute_result"
    }
   ],
   "source": [
    "np.arcsin(-0.988)/np.pi * 180 + 180"
   ]
  },
  {
   "cell_type": "code",
   "execution_count": 35,
   "metadata": {},
   "outputs": [
    {
     "data": {
      "text/plain": [
       "0.988"
      ]
     },
     "execution_count": 35,
     "metadata": {},
     "output_type": "execute_result"
    }
   ],
   "source": [
    "np.sin(98.88512427022808/180*np.pi)"
   ]
  },
  {
   "cell_type": "code",
   "execution_count": 39,
   "metadata": {},
   "outputs": [
    {
     "data": {
      "text/plain": [
       "8.881999888408266"
      ]
     },
     "execution_count": 39,
     "metadata": {},
     "output_type": "execute_result"
    }
   ],
   "source": [
    "np.arcsin(0.1544)/np.pi*180"
   ]
  },
  {
   "cell_type": "code",
   "execution_count": null,
   "metadata": {},
   "outputs": [],
   "source": []
  }
 ],
 "metadata": {
  "kernelspec": {
   "display_name": "Python 3",
   "language": "python",
   "name": "python3"
  },
  "language_info": {
   "codemirror_mode": {
    "name": "ipython",
    "version": 3
   },
   "file_extension": ".py",
   "mimetype": "text/x-python",
   "name": "python",
   "nbconvert_exporter": "python",
   "pygments_lexer": "ipython3",
   "version": "3.8.10"
  }
 },
 "nbformat": 4,
 "nbformat_minor": 5
}
