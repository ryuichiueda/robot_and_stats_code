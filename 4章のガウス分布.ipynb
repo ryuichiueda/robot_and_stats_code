{
 "cells": [
  {
   "cell_type": "code",
   "execution_count": 16,
   "id": "99284164",
   "metadata": {},
   "outputs": [
    {
     "data": {
      "text/plain": [
       "Text(0, 0.5, 'y')"
      ]
     },
     "execution_count": 16,
     "metadata": {},
     "output_type": "execute_result"
    },
    {
     "data": {
      "image/png": "[encoded data removed]",
      "text/plain": [
       "<Figure size 432x288 with 1 Axes>"
      ]
     },
     "metadata": {
      "needs_background": "light"
     },
     "output_type": "display_data"
    }
   ],
   "source": [
    "%matplotlib inline \n",
    "import matplotlib.pyplot as plt\n",
    "import numpy as np                  \n",
    "from scipy.stats import multivariate_normal \n",
    "import math\n",
    "\n",
    "x, y = np.mgrid[0:20, 0:20]\n",
    "pos = np.empty(x.shape + (2,))\n",
    "pos[:, :, 0] = x \n",
    "pos[:, :, 1] = y\n",
    "\n",
    "a = multivariate_normal(mean=[3.88,0.51], cov=[[0.016, -0.029], [-0.029, 0.197]])\n",
    "\n",
    "plt.contour(x, y, a.pdf(pos)) \n",
    "\n",
    "plt.gca().set_aspect('equal')\n",
    "plt.gca().set_xlabel('x')\n",
    "plt.gca().set_ylabel('y')"
   ]
  },
  {
   "cell_type": "code",
   "execution_count": null,
   "id": "28c1d839",
   "metadata": {},
   "outputs": [],
   "source": []
  }
 ],
 "metadata": {
  "kernelspec": {
   "display_name": "Python 3 (ipykernel)",
   "language": "python",
   "name": "python3"
  },
  "language_info": {
   "codemirror_mode": {
    "name": "ipython",
    "version": 3
   },
   "file_extension": ".py",
   "mimetype": "text/x-python",
   "name": "python",
   "nbconvert_exporter": "python",
   "pygments_lexer": "ipython3",
   "version": "3.10.6"
  }
 },
 "nbformat": 4,
 "nbformat_minor": 5
}
