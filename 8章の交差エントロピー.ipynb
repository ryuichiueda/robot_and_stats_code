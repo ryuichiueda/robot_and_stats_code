{
 "cells": [
  {
   "cell_type": "code",
   "execution_count": 3,
   "id": "c1b28194",
   "metadata": {},
   "outputs": [],
   "source": [
    "import numpy as np"
   ]
  },
  {
   "cell_type": "code",
   "execution_count": 5,
   "id": "f9c5682c",
   "metadata": {},
   "outputs": [],
   "source": [
    "def cross_ent(vy1, vy2):\n",
    "    H = 0.0\n",
    "    for (y1, y2) in zip(vy1, vy2):\n",
    "        H -= y1 * np.log(y2)\n",
    "        \n",
    "    return H\n",
    "        "
   ]
  },
  {
   "cell_type": "code",
   "execution_count": 8,
   "id": "2cdadb10",
   "metadata": {},
   "outputs": [
    {
     "data": {
      "text/plain": [
       "4.605170185988091"
      ]
     },
     "execution_count": 8,
     "metadata": {},
     "output_type": "execute_result"
    }
   ],
   "source": [
    "cross_ent([1,0,0],[0.01, 0.98,0.01])"
   ]
  },
  {
   "cell_type": "code",
   "execution_count": null,
   "id": "6ea9c70d",
   "metadata": {},
   "outputs": [],
   "source": []
  }
 ],
 "metadata": {
  "kernelspec": {
   "display_name": "Python 3 (ipykernel)",
   "language": "python",
   "name": "python3"
  },
  "language_info": {
   "codemirror_mode": {
    "name": "ipython",
    "version": 3
   },
   "file_extension": ".py",
   "mimetype": "text/x-python",
   "name": "python",
   "nbconvert_exporter": "python",
   "pygments_lexer": "ipython3",
   "version": "3.10.6"
  }
 },
 "nbformat": 4,
 "nbformat_minor": 5
}
