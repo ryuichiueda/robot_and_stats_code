{
 "cells": [
  {
   "cell_type": "code",
   "execution_count": 1,
   "id": "2f6c9922",
   "metadata": {},
   "outputs": [],
   "source": [
    "import numpy as np\n",
    "from scipy.stats import norm\n",
    "import matplotlib.pyplot as plt"
   ]
  },
  {
   "cell_type": "code",
   "execution_count": 2,
   "id": "b3a7498b",
   "metadata": {},
   "outputs": [
    {
     "name": "stdout",
     "output_type": "stream",
     "text": [
      "[0.05532243446175128, 0.9413282776092622]\n",
      "[0.9761977757591502, 1.0103326991272228]\n"
     ]
    }
   ],
   "source": [
    "data = [np.random.normal(loc=0,scale = 1,size=500), np.random.normal(loc=1.0,scale = 1,size=500)]\n",
    "data_means = [ np.mean(e) for e in data ]\n",
    "data_stdevs = [ np.std(e) for e in data ]\n",
    "\n",
    "print(data_means)\n",
    "print(data_stdevs)"
   ]
  },
  {
   "cell_type": "code",
   "execution_count": 3,
   "id": "c8c7f89c",
   "metadata": {},
   "outputs": [
    {
     "name": "stdout",
     "output_type": "stream",
     "text": [
      "-1502.504414353386\n"
     ]
    }
   ],
   "source": [
    "likelihood_sums = 0\n",
    "for i in range(2):\n",
    "    likelihood_sums += sum( [np.log(0.5*norm.pdf(e,data_means[0], data_stdevs[0])+0.5*norm.pdf(e,data_means[1], data_stdevs[1])) for e in data[i] ] )\n",
    "print(likelihood_sums)"
   ]
  },
  {
   "cell_type": "code",
   "execution_count": 4,
   "id": "3576df18",
   "metadata": {},
   "outputs": [
    {
     "name": "stdout",
     "output_type": "stream",
     "text": [
      "0.49832535603550665\n",
      "1.0877126084974322\n"
     ]
    }
   ],
   "source": [
    "data2 = np.concatenate(data)\n",
    "data_mean2 = np.mean(data2)\n",
    "data_stdev2 = np.std(data2)\n",
    "\n",
    "print(data_mean2)\n",
    "print(data_stdev2)"
   ]
  },
  {
   "cell_type": "code",
   "execution_count": 5,
   "id": "53b7cdf0",
   "metadata": {},
   "outputs": [
    {
     "data": {
      "text/plain": [
       "-1503.0155001439416"
      ]
     },
     "execution_count": 5,
     "metadata": {},
     "output_type": "execute_result"
    }
   ],
   "source": [
    "sum( [np.log(norm.pdf(e,data_mean2, data_stdev2)) for e in data2 ] )"
   ]
  },
  {
   "cell_type": "code",
   "execution_count": 6,
   "id": "2be39b48",
   "metadata": {},
   "outputs": [
    {
     "data": {
      "text/plain": [
       "[<matplotlib.lines.Line2D at 0x7f8d4526cc40>]"
      ]
     },
     "execution_count": 6,
     "metadata": {},
     "output_type": "execute_result"
    },
    {
     "data": {
      "image/png": "[encoded data removed]",
      "text/plain": [
       "<Figure size 432x288 with 1 Axes>"
      ]
     },
     "metadata": {
      "needs_background": "light"
     },
     "output_type": "display_data"
    }
   ],
   "source": [
    "x = np.arange(-3,3,0.01)\n",
    "\n",
    "plt.plot(x,norm.pdf(x,data_mean2,data_stdev2) ,color='r')\n",
    "plt.plot(x,norm.pdf(x,data_means[0],data_stdevs[0])/2 ,color='b')\n",
    "plt.plot(x,norm.pdf(x,data_means[1],data_stdevs[1])/2 ,color='b')\n",
    "\n"
   ]
  },
  {
   "cell_type": "code",
   "execution_count": null,
   "id": "dfab580f",
   "metadata": {},
   "outputs": [],
   "source": []
  }
 ],
 "metadata": {
  "kernelspec": {
   "display_name": "Python 3 (ipykernel)",
   "language": "python",
   "name": "python3"
  },
  "language_info": {
   "codemirror_mode": {
    "name": "ipython",
    "version": 3
   },
   "file_extension": ".py",
   "mimetype": "text/x-python",
   "name": "python",
   "nbconvert_exporter": "python",
   "pygments_lexer": "ipython3",
   "version": "3.10.6"
  }
 },
 "nbformat": 4,
 "nbformat_minor": 5
}
