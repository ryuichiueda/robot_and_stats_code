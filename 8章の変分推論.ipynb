{
 "cells": [
  {
   "cell_type": "code",
   "execution_count": 1,
   "id": "c1b28194",
   "metadata": {},
   "outputs": [],
   "source": [
    "import matplotlib.pyplot as plt\n",
    "import numpy as np\n",
    "from scipy.stats import gamma, multivariate_normal\n",
    "import data, random"
   ]
  },
  {
   "cell_type": "code",
   "execution_count": 2,
   "id": "3ff3560f",
   "metadata": {},
   "outputs": [
    {
     "data": {
      "text/plain": [
       "<matplotlib.collections.PathCollection at 0x7f3af9644850>"
      ]
     },
     "execution_count": 2,
     "metadata": {},
     "output_type": "execute_result"
    },
    {
     "data": {
      "image/png": "[encoded data removed]",
      "text/plain": [
       "<Figure size 432x288 with 1 Axes>"
      ]
     },
     "metadata": {
      "needs_background": "light"
     },
     "output_type": "display_data"
    }
   ],
   "source": [
    "centers_x = [1, 2,   3,   3, 4]\n",
    "centers_y = [1, 2, 1.5, 2.5, 3]\n",
    "covs = [np.array([[1, 0],[0, 1]]), \n",
    "        np.array([[2, 0.3],[0.3, 1]]),\n",
    "        np.array([[2, -0.3],[-0.3, 1]]),\n",
    "        np.array([[1, 0.3],[0.3, 2]]), \n",
    "        np.array([[0.5, 0.1],[0.1, 0.5]])]\n",
    "datanums = [30, 20, 40, 30, 20]\n",
    "\n",
    "data = []\n",
    "\n",
    "for i in range(5):\n",
    "    p = multivariate_normal((centers_x[i], centers_y[i]), covs[i]/100)\n",
    "    data.extend(p.rvs(datanums[i]))\n",
    "    \n",
    "random.shuffle(data)\n",
    "#print(data)\n",
    "\n",
    "plt.scatter([x for (x,y) in data], [y for (x,y) in data])\n",
    "    \n"
   ]
  },
  {
   "cell_type": "code",
   "execution_count": 3,
   "id": "b3b2fecb",
   "metadata": {},
   "outputs": [],
   "source": [
    "K = 10\n",
    "\n",
    "def initial_r(data):\n",
    "    rs = []\n",
    "    for i,d in enumerate(data):\n",
    "        r = [0]*K\n",
    "        r[i%10] = 1.0\n",
    "        \n",
    "        rs.append(r)\n",
    "        \n",
    "    return rs"
   ]
  },
  {
   "cell_type": "code",
   "execution_count": 4,
   "id": "d2ec3442",
   "metadata": {},
   "outputs": [],
   "source": [
    "rs = initial_r(data)"
   ]
  },
  {
   "cell_type": "code",
   "execution_count": 5,
   "id": "c939ae69",
   "metadata": {},
   "outputs": [],
   "source": [
    "def weighted_num(k, rs):\n",
    "    return sum([r[k] for r in rs])\n",
    "\n",
    "def weighted_mean(k, rs, data):\n",
    "    return sum([ r[k]*p for (r, p) in zip(rs, data)])/weighted_num(k, rs)\n",
    "    \n",
    "def weighted_cov(k, rs, data):\n",
    "    xbar = weighted_mean(k, rs, data)\n",
    "    return sum([ r[k]*(p-xbar).reshape((2, 1)).dot((p-xbar).reshape((2, 1)).T) for (r, p) in zip(rs, data)])/weighted_num(k, rs)"
   ]
  },
  {
   "cell_type": "code",
   "execution_count": 6,
   "id": "f28fea07",
   "metadata": {},
   "outputs": [],
   "source": [
    "ns = [weighted_num(k, rs) for k in range(K)]\n",
    "xs = [weighted_mean(k, rs, data) for k in range(K)]\n",
    "covs = [weighted_cov(k, rs, data) for k in range(K)]"
   ]
  },
  {
   "cell_type": "code",
   "execution_count": 7,
   "id": "5988ad0f",
   "metadata": {},
   "outputs": [
    {
     "name": "stdout",
     "output_type": "stream",
     "text": [
      "[14.0, 14.0, 14.0, 14.0, 14.0, 14.0, 14.0, 14.0, 14.0, 14.0]\n",
      "[array([2.47011879, 1.99826215]), array([2.73819807, 2.04671522]), array([2.80049486, 2.05034886]), array([2.41719776, 1.75256746]), array([2.63581237, 1.77402581]), array([2.7926695 , 2.09079642]), array([2.4581541 , 1.81566236]), array([2.23630926, 1.70365951]), array([2.58097473, 1.80390999]), array([2.61047685, 1.96150647])]\n",
      "[array([[1.13692042, 0.74299932],\n",
      "       [0.74299932, 0.57434093]]), array([[0.78058729, 0.39581007],\n",
      "       [0.39581007, 0.44293177]]), array([[0.55520605, 0.29876996],\n",
      "       [0.29876996, 0.36430595]]), array([[1.12646086, 0.58311881],\n",
      "       [0.58311881, 0.51360275]]), array([[0.91833683, 0.49272411],\n",
      "       [0.49272411, 0.51210729]]), array([[1.24416347, 0.8167755 ],\n",
      "       [0.8167755 , 0.65933132]]), array([[0.57514067, 0.18518692],\n",
      "       [0.18518692, 0.27543194]]), array([[1.06190381, 0.49144367],\n",
      "       [0.49144367, 0.38681046]]), array([[1.15398219, 0.56790579],\n",
      "       [0.56790579, 0.46584297]]), array([[0.94863415, 0.5332757 ],\n",
      "       [0.5332757 , 0.46062811]])]\n"
     ]
    }
   ],
   "source": [
    "print(ns)\n",
    "print(xs)\n",
    "print(covs)"
   ]
  },
  {
   "cell_type": "code",
   "execution_count": 8,
   "id": "3433e076",
   "metadata": {},
   "outputs": [],
   "source": [
    "def update_params(org_alpha, org_beta, org_nu, org_m, org_w_inv, k, ns, xs, covs):\n",
    "    alpha = org_alpha + ns[k]\n",
    "    beta = org_beta + ns[k]\n",
    "    nu = org_nu + ns[k]\n",
    "    m = (org_beta * org_m + ns[k]*xs[k])/beta\n",
    "    w_inv = org_w_inv + ns[k]*covs[k] + (org_beta*ns[k])/(org_beta + ns[k])*(xs[k] - org_m).reshape((2,1)).dot((xs[k] - org_m).reshape((2,1)).T)\n",
    "    \n",
    "    return (alpha, beta, nu, m, w_inv)"
   ]
  },
  {
   "cell_type": "code",
   "execution_count": 12,
   "id": "115ed5dc",
   "metadata": {},
   "outputs": [
    {
     "name": "stdout",
     "output_type": "stream",
     "text": [
      "[15.0, 15.0, 15.0, 15.0, 15.0, 15.0, 15.0, 15.0, 15.0, 15.0]\n",
      "[15.0, 15.0, 15.0, 15.0, 15.0, 15.0, 15.0, 15.0, 15.0, 15.0]\n",
      "[15.0, 15.0, 15.0, 15.0, 15.0, 15.0, 15.0, 15.0, 15.0, 15.0]\n",
      "[array([2.3054442 , 1.86504468]), array([2.55565154, 1.91026753]), array([2.61379521, 1.91365894]), array([2.25605124, 1.63572963]), array([2.46009154, 1.65575742]), array([2.60649153, 1.95140999]), array([2.29427716, 1.69461821]), array([2.08722197, 1.59008221]), array([2.40890975, 1.68364932]), array([2.43644506, 1.83073937])]\n",
      "[array([[22.61160694, 15.0088724 ],\n",
      "       [15.0088724 , 12.76762122]]), array([[18.92610214, 10.77203183],\n",
      "       [10.77203183, 11.11081838]]), array([[16.0928047 ,  9.54197146],\n",
      "       [ 9.54197146, 10.02395177]]), array([[22.223774  , 12.11754527],\n",
      "       [12.11754527, 11.05716508]]), array([[20.34105538, 11.26240337],\n",
      "       [11.26240337, 11.10685851]]), array([[25.69735796, 16.88450015],\n",
      "       [16.88450015, 14.31063949]]), array([[14.69165621,  6.75824956],\n",
      "       [ 6.75824956,  7.9329017 ]]), array([[20.53432714, 10.43612692],\n",
      "       [10.43612692,  9.12430513]]), array([[23.37308588, 12.29613739],\n",
      "       [12.29613739, 10.55895346]]), array([[20.64116147, 12.24496253],\n",
      "       [12.24496253, 11.03980069]])]\n"
     ]
    }
   ],
   "source": [
    "alphas = [1]*K\n",
    "betas = [1]*K\n",
    "nus = [1]*K\n",
    "ms = [np.array([0,0])]*K\n",
    "w_invs = [np.array([[1, 0],[0, 1]])]*K\n",
    "\n",
    "for k in range(K):\n",
    "    params = update_params(alphas[k], betas[k], nus[k], ms[k], w_invs[k], k, ns, xs, covs)\n",
    "    alphas[k] = params[0]\n",
    "    betas[k] = params[1]\n",
    "    nus[k] = params[2]\n",
    "    ms[k] = params[3]\n",
    "    w_invs[k] = params[4]\n",
    "    \n",
    "print(alphas)\n",
    "print(betas)\n",
    "print(nus)\n",
    "print(ms)\n",
    "print(w_invs)"
   ]
  },
  {
   "cell_type": "code",
   "execution_count": null,
   "id": "1aedfdc7",
   "metadata": {},
   "outputs": [],
   "source": [
    "def rho(i, k, alphas, betas, nus, ms, w_invs):\n",
    "    pass"
   ]
  }
 ],
 "metadata": {
  "kernelspec": {
   "display_name": "Python 3 (ipykernel)",
   "language": "python",
   "name": "python3"
  },
  "language_info": {
   "codemirror_mode": {
    "name": "ipython",
    "version": 3
   },
   "file_extension": ".py",
   "mimetype": "text/x-python",
   "name": "python",
   "nbconvert_exporter": "python",
   "pygments_lexer": "ipython3",
   "version": "3.10.6"
  }
 },
 "nbformat": 4,
 "nbformat_minor": 5
}
