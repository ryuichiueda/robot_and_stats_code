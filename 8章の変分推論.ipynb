{
 "cells": [
  {
   "cell_type": "code",
   "execution_count": 13,
   "id": "c1b28194",
   "metadata": {},
   "outputs": [],
   "source": [
    "import matplotlib.pyplot as plt\n",
    "import numpy as np\n",
    "from scipy.stats import gamma, multivariate_normal\n",
    "import data, random"
   ]
  },
  {
   "cell_type": "code",
   "execution_count": 26,
   "id": "3ff3560f",
   "metadata": {},
   "outputs": [
    {
     "data": {
      "text/plain": [
       "<matplotlib.collections.PathCollection at 0x7f12b80d8460>"
      ]
     },
     "execution_count": 26,
     "metadata": {},
     "output_type": "execute_result"
    },
    {
     "data": {
      "image/png": "[encoded data removed]",
      "text/plain": [
       "<Figure size 432x288 with 1 Axes>"
      ]
     },
     "metadata": {
      "needs_background": "light"
     },
     "output_type": "display_data"
    }
   ],
   "source": [
    "centers_x = [1, 2,   3,   3, 4]\n",
    "centers_y = [1, 2, 1.5, 2.5, 3]\n",
    "covs = [np.array([[1, 0],[0, 1]]), \n",
    "        np.array([[2, 0.3],[0.3, 1]]),\n",
    "        np.array([[2, -0.3],[-0.3, 1]]),\n",
    "        np.array([[1, 0.3],[0.3, 2]]), \n",
    "        np.array([[0.5, 0.1],[0.1, 0.5]])]\n",
    "datanums = [30, 20, 40, 30, 20]\n",
    "\n",
    "data = []\n",
    "\n",
    "for i in range(5):\n",
    "    p = multivariate_normal((centers_x[i], centers_y[i]), covs[i]/100)\n",
    "    data.extend(p.rvs(datanums[i]))\n",
    "    \n",
    "random.shuffle(data)\n",
    "#print(data)\n",
    "\n",
    "plt.scatter([x for (x,y) in data], [y for (x,y) in data])\n",
    "    \n"
   ]
  },
  {
   "cell_type": "code",
   "execution_count": 33,
   "id": "b3b2fecb",
   "metadata": {},
   "outputs": [],
   "source": [
    "K = 10\n",
    "\n",
    "def initial_r(data):\n",
    "    rs = []\n",
    "    for i,d in enumerate(data):\n",
    "        r = [0]*K\n",
    "        r[i%10] = 1.0\n",
    "        \n",
    "        rs.append(r)\n",
    "        \n",
    "    return rs"
   ]
  },
  {
   "cell_type": "code",
   "execution_count": 35,
   "id": "09605692",
   "metadata": {},
   "outputs": [],
   "source": [
    "rs = initial_r(data)"
   ]
  },
  {
   "cell_type": "code",
   "execution_count": 51,
   "id": "be4f01b2",
   "metadata": {},
   "outputs": [],
   "source": [
    "def weighted_num(k, rs):\n",
    "    return sum([r[k] for r in rs])\n",
    "\n",
    "def weighted_mean(k, rs, data):\n",
    "    return sum([ r[k]*p for (r, p) in zip(rs, data)])/weighted_num(k, rs)\n",
    "    "
   ]
  },
  {
   "cell_type": "code",
   "execution_count": 52,
   "id": "536c2c70",
   "metadata": {},
   "outputs": [],
   "source": [
    "ns = [weighted_num(k, rs) for k in range(K)]\n",
    "xs = [weighted_mean(k, rs, data) for k in range(K)]"
   ]
  },
  {
   "cell_type": "code",
   "execution_count": 55,
   "id": "64ddfb91",
   "metadata": {},
   "outputs": [
    {
     "name": "stdout",
     "output_type": "stream",
     "text": [
      "[14.0, 14.0, 14.0, 14.0, 14.0, 14.0, 14.0, 14.0, 14.0, 14.0]\n",
      "[array([2.88358209, 2.15925516]), array([2.755317  , 1.89610709]), array([2.27589045, 1.53423761]), array([2.67141523, 1.89316013]), array([2.61443018, 1.83053952]), array([2.77106032, 1.95388671]), array([2.23624185, 1.78912943]), array([2.38838299, 1.84910903]), array([2.58337079, 2.01341653]), array([2.50853733, 1.99385704])]\n"
     ]
    }
   ],
   "source": [
    "print(ns)\n",
    "print(xs)"
   ]
  },
  {
   "cell_type": "code",
   "execution_count": null,
   "id": "685b1854",
   "metadata": {},
   "outputs": [],
   "source": []
  }
 ],
 "metadata": {
  "kernelspec": {
   "display_name": "Python 3 (ipykernel)",
   "language": "python",
   "name": "python3"
  },
  "language_info": {
   "codemirror_mode": {
    "name": "ipython",
    "version": 3
   },
   "file_extension": ".py",
   "mimetype": "text/x-python",
   "name": "python",
   "nbconvert_exporter": "python",
   "pygments_lexer": "ipython3",
   "version": "3.10.6"
  }
 },
 "nbformat": 4,
 "nbformat_minor": 5
}
