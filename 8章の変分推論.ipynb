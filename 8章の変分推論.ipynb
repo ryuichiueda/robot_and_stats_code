{
 "cells": [
  {
   "cell_type": "code",
   "execution_count": 1,
   "id": "c1b28194",
   "metadata": {},
   "outputs": [],
   "source": [
    "import matplotlib.pyplot as plt\n",
    "import numpy as np\n",
    "from scipy.stats import multivariate_normal\n",
    "from scipy.special import digamma\n",
    "import data, random"
   ]
  },
  {
   "cell_type": "code",
   "execution_count": 2,
   "id": "3ff3560f",
   "metadata": {},
   "outputs": [
    {
     "data": {
      "text/plain": [
       "<matplotlib.collections.PathCollection at 0x7f1b17e30850>"
      ]
     },
     "execution_count": 2,
     "metadata": {},
     "output_type": "execute_result"
    },
    {
     "data": {
      "image/png": "[encoded data removed]",
      "text/plain": [
       "<Figure size 432x288 with 1 Axes>"
      ]
     },
     "metadata": {
      "needs_background": "light"
     },
     "output_type": "display_data"
    }
   ],
   "source": [
    "centers_x = [1, 2,   3,   3, 4]\n",
    "centers_y = [1, 2, 1.5, 2.5, 3]\n",
    "covs = [np.array([[1, 0],[0, 1]]), \n",
    "        np.array([[2, 0.3],[0.3, 1]]),\n",
    "        np.array([[2, -0.3],[-0.3, 1]]),\n",
    "        np.array([[1, 0.3],[0.3, 2]]), \n",
    "        np.array([[0.5, 0.1],[0.1, 0.5]])]\n",
    "datanums = [30, 20, 40, 30, 20]\n",
    "\n",
    "data = []\n",
    "\n",
    "for i in range(5):\n",
    "    p = multivariate_normal((centers_x[i], centers_y[i]), covs[i]/100)\n",
    "    data.extend(p.rvs(datanums[i]))\n",
    "    \n",
    "random.shuffle(data)\n",
    "#print(data)\n",
    "\n",
    "plt.scatter([x for (x,y) in data], [y for (x,y) in data])\n",
    "    \n"
   ]
  },
  {
   "cell_type": "code",
   "execution_count": 3,
   "id": "b3b2fecb",
   "metadata": {},
   "outputs": [],
   "source": [
    "K = 10\n",
    "\n",
    "def initial_r(data):\n",
    "    rs = []\n",
    "    for i,d in enumerate(data):\n",
    "        r = [0]*K\n",
    "        r[i%10] = 1.0\n",
    "        \n",
    "        rs.append(r)\n",
    "        \n",
    "    return rs"
   ]
  },
  {
   "cell_type": "code",
   "execution_count": 4,
   "id": "81a897fc",
   "metadata": {},
   "outputs": [],
   "source": [
    "rs = initial_r(data)"
   ]
  },
  {
   "cell_type": "code",
   "execution_count": 5,
   "id": "178e7fb8",
   "metadata": {},
   "outputs": [],
   "source": [
    "def weighted_num(k, rs):\n",
    "    return sum([r[k] for r in rs])\n",
    "\n",
    "def weighted_mean(k, rs, data):\n",
    "    return sum([ r[k]*p for (r, p) in zip(rs, data)])/weighted_num(k, rs)\n",
    "    \n",
    "def weighted_cov(k, rs, data):\n",
    "    xbar = weighted_mean(k, rs, data)\n",
    "    return sum([ r[k]*(p-xbar).reshape((2, 1)).dot((p-xbar).reshape((2, 1)).T) for (r, p) in zip(rs, data)])/weighted_num(k, rs)"
   ]
  },
  {
   "cell_type": "code",
   "execution_count": 6,
   "id": "acf71a5b",
   "metadata": {},
   "outputs": [],
   "source": [
    "ns = [weighted_num(k, rs) for k in range(K)]\n",
    "xs = [weighted_mean(k, rs, data) for k in range(K)]\n",
    "covs = [weighted_cov(k, rs, data) for k in range(K)]"
   ]
  },
  {
   "cell_type": "code",
   "execution_count": 7,
   "id": "b2faa63e",
   "metadata": {},
   "outputs": [
    {
     "name": "stdout",
     "output_type": "stream",
     "text": [
      "[14.0, 14.0, 14.0, 14.0, 14.0, 14.0, 14.0, 14.0, 14.0, 14.0]\n",
      "[array([2.51045253, 1.84760031]), array([2.86168231, 2.09931085]), array([2.79387684, 1.9551742 ]), array([2.51646477, 1.82963891]), array([2.99556213, 2.18292519]), array([2.26777066, 1.57591542]), array([2.26026538, 1.62842344]), array([2.53308244, 1.90089362]), array([2.52200672, 1.94580928]), array([2.54221454, 1.85718822])]\n",
      "[array([[0.94319524, 0.51220193],\n",
      "       [0.51220193, 0.48848937]]), array([[0.82266098, 0.51261549],\n",
      "       [0.51261549, 0.46315485]]), array([[0.81478418, 0.46140167],\n",
      "       [0.46140167, 0.48103878]]), array([[0.96321609, 0.50300862],\n",
      "       [0.50300862, 0.44020147]]), array([[0.59649222, 0.32093309],\n",
      "       [0.32093309, 0.433202  ]]), array([[1.00070191, 0.45279685],\n",
      "       [0.45279685, 0.39330515]]), array([[1.10560503, 0.4908114 ],\n",
      "       [0.4908114 , 0.41733486]]), array([[1.07612107, 0.59579105],\n",
      "       [0.59579105, 0.50800406]]), array([[0.93720793, 0.52251404],\n",
      "       [0.52251404, 0.43114399]]), array([[0.71537348, 0.27884413],\n",
      "       [0.27884413, 0.34464861]])]\n"
     ]
    }
   ],
   "source": [
    "print(ns)\n",
    "print(xs)\n",
    "print(covs)"
   ]
  },
  {
   "cell_type": "code",
   "execution_count": 8,
   "id": "394ab084",
   "metadata": {},
   "outputs": [],
   "source": [
    "def update_params(org_alpha, org_beta, org_nu, org_m, org_w_inv, k, ns, xs, covs):\n",
    "    alpha = org_alpha + ns[k]\n",
    "    beta = org_beta + ns[k]\n",
    "    nu = org_nu + ns[k]\n",
    "    m = (org_beta * org_m + ns[k]*xs[k])/beta\n",
    "    w_inv = org_w_inv + ns[k]*covs[k] + (org_beta*ns[k])/(org_beta + ns[k])*(xs[k] - org_m).reshape((2,1)).dot((xs[k] - org_m).reshape((2,1)).T)\n",
    "    \n",
    "    return (alpha, beta, nu, m, w_inv)"
   ]
  },
  {
   "cell_type": "code",
   "execution_count": null,
   "id": "56976e50",
   "metadata": {},
   "outputs": [],
   "source": []
  },
  {
   "cell_type": "code",
   "execution_count": 9,
   "id": "90e28669",
   "metadata": {},
   "outputs": [],
   "source": [
    "def rho(d, k, alphas, betas, nus, ms, w_invs):\n",
    "    first = digamma(alphas[k]) - digamma(sum(alphas))\n",
    "    second_2 = digamma((nus[k])/2) + digamma((nus[k] - 1)/2) + np.log(1/np.linalg.det(w_invs[k]))\n",
    "    third_2 = 2/betas[k] + nus[k]*(d - ms[k]).reshape((2,1)).T.dot(np.linalg.inv(w_invs[k])).dot((d - ms[k]).reshape((2,1)))[0][0]\n",
    "    \n",
    "    log_rho = first + second_2/2 - third_2/2\n",
    "    \n",
    "    return np.exp(log_rho)"
   ]
  },
  {
   "cell_type": "code",
   "execution_count": 10,
   "id": "ca614f21",
   "metadata": {},
   "outputs": [],
   "source": [
    "def calc_rs(alphas, betas, nus, ms, w_invs):\n",
    "    rs = []\n",
    "    for d in data:\n",
    "        rhos = [ rho(d, k, alphas, betas, nus, ms, w_invs) for k in range(K)]\n",
    "        sm = sum(rhos)\n",
    "        rs.append(rhos/sm)\n",
    "        \n",
    "    return rs"
   ]
  },
  {
   "cell_type": "code",
   "execution_count": 11,
   "id": "e4a63baa",
   "metadata": {},
   "outputs": [
    {
     "name": "stdout",
     "output_type": "stream",
     "text": [
      "[15.0, 15.0, 15.0, 15.0, 15.0, 15.0, 15.0, 15.0, 15.0, 15.0]\n",
      "[15.0, 15.0, 15.0, 15.0, 15.0, 15.0, 15.0, 15.0, 15.0, 15.0]\n",
      "[15.0, 15.0, 15.0, 15.0, 15.0, 15.0, 15.0, 15.0, 15.0, 15.0]\n",
      "[array([2.34308902, 1.72442695]), array([2.67090349, 1.9593568 ]), array([2.60761838, 1.82482925]), array([2.34870045, 1.70766299]), array([2.79585799, 2.03739685]), array([2.11658595, 1.47085439]), array([2.10958103, 1.51986188]), array([2.36421027, 1.77416738]), array([2.35387294, 1.81608866]), array([2.37273357, 1.73337567])]\n",
      "[array([[20.08694708, 11.499919  ],\n",
      "       [11.499919  , 11.02490295]]), array([[20.16053099, 12.78367358],\n",
      "       [12.78367358, 11.59746685]]), array([[19.69234317, 11.55797154],\n",
      "       [11.55797154, 11.30240194]]), array([[20.39544722, 11.33939449],\n",
      "       [11.33939449, 10.28722725]]), array([[17.72605747, 10.59621208],\n",
      "       [10.59621208, 11.51231288]]), array([[19.80975822,  9.67471628],\n",
      "       [ 9.67471628,  8.82421419]]), array([[21.24668335, 10.30665084],\n",
      "       [10.30665084,  9.31766681]]), array([[22.05443453, 12.83518699],\n",
      "       [12.83518699, 11.48456029]]), array([[20.05739434, 11.89538435],\n",
      "       [11.89538435, 10.56977796]]), array([[17.04722654,  8.31043064],\n",
      "       [ 8.31043064,  9.04428541]])]\n"
     ]
    }
   ],
   "source": [
    "alphas = [1]*K\n",
    "betas = [1]*K\n",
    "nus = [1]*K\n",
    "ms = [np.array([0,0])]*K\n",
    "w_invs = [np.array([[1, 0],[0, 1]])]*K\n",
    "\n",
    "for k in range(K):\n",
    "    params = update_params(1,1,1, np.array([0,0]), np.array([[1, 0],[0, 1]]), k, ns, xs, covs)\n",
    "    alphas[k] = params[0]\n",
    "    betas[k] = params[1]\n",
    "    nus[k] = params[2]\n",
    "    ms[k] = params[3]\n",
    "    w_invs[k] = params[4]\n",
    "    \n",
    "print(alphas)\n",
    "print(betas)\n",
    "print(nus)\n",
    "print(ms)\n",
    "print(w_invs)"
   ]
  },
  {
   "cell_type": "code",
   "execution_count": null,
   "id": "ccf332da",
   "metadata": {},
   "outputs": [],
   "source": []
  }
 ],
 "metadata": {
  "kernelspec": {
   "display_name": "Python 3 (ipykernel)",
   "language": "python",
   "name": "python3"
  },
  "language_info": {
   "codemirror_mode": {
    "name": "ipython",
    "version": 3
   },
   "file_extension": ".py",
   "mimetype": "text/x-python",
   "name": "python",
   "nbconvert_exporter": "python",
   "pygments_lexer": "ipython3",
   "version": "3.10.6"
  }
 },
 "nbformat": 4,
 "nbformat_minor": 5
}
