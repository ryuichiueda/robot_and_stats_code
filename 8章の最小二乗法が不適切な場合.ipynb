{
 "cells": [
  {
   "cell_type": "code",
   "execution_count": 1,
   "id": "c1b28194",
   "metadata": {},
   "outputs": [],
   "source": [
    "import matplotlib.pyplot as plt\n",
    "import numpy as np\n",
    "from scipy.stats import gamma, multivariate_normal\n",
    "import data"
   ]
  },
  {
   "cell_type": "code",
   "execution_count": 2,
   "id": "8f9c422a",
   "metadata": {},
   "outputs": [],
   "source": [
    "dist = multivariate_normal([0, 0], [[50, 3],[3, 50]])\n",
    "data = dist.rvs(100)\n",
    "\n",
    "# data = data.x_00121 "
   ]
  },
  {
   "cell_type": "code",
   "execution_count": 3,
   "id": "9e7a3227",
   "metadata": {},
   "outputs": [],
   "source": [
    "def draw_data(data):\n",
    "    xs = [e[0] for e in data]\n",
    "    ys = [e[1] for e in data]\n",
    "    plt.xlim(-30, 30)\n",
    "    plt.ylim(-30, 30)\n",
    "    plt.scatter(xs, ys)\n",
    "    plt.show()"
   ]
  },
  {
   "cell_type": "code",
   "execution_count": 4,
   "id": "b7b1d8b3",
   "metadata": {},
   "outputs": [
    {
     "data": {
      "image/png": "[encoded data removed]",
      "text/plain": [
       "<Figure size 432x288 with 1 Axes>"
      ]
     },
     "metadata": {
      "needs_background": "light"
     },
     "output_type": "display_data"
    }
   ],
   "source": [
    "draw_data(data)"
   ]
  }
 ],
 "metadata": {
  "kernelspec": {
   "display_name": "Python 3 (ipykernel)",
   "language": "python",
   "name": "python3"
  },
  "language_info": {
   "codemirror_mode": {
    "name": "ipython",
    "version": 3
   },
   "file_extension": ".py",
   "mimetype": "text/x-python",
   "name": "python",
   "nbconvert_exporter": "python",
   "pygments_lexer": "ipython3",
   "version": "3.10.6"
  }
 },
 "nbformat": 4,
 "nbformat_minor": 5
}
