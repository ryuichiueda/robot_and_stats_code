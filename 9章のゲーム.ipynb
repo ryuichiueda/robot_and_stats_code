{
 "cells": [
  {
   "cell_type": "code",
   "execution_count": 2,
   "id": "92763493",
   "metadata": {},
   "outputs": [],
   "source": [
    "import random, math"
   ]
  },
  {
   "cell_type": "code",
   "execution_count": 2,
   "id": "4fd8aef6",
   "metadata": {},
   "outputs": [
    {
     "data": {
      "text/plain": [
       "[12.96836419753086,\n",
       " 13.96836419753086,\n",
       " 14.135030864197526,\n",
       " 14.32947530864197,\n",
       " 14.556327160493822,\n",
       " 14.820987654320982,\n",
       " 0,\n",
       " 10000]"
      ]
     },
     "execution_count": 2,
     "metadata": {},
     "output_type": "execute_result"
    }
   ],
   "source": [
    "### policy evaluation ###\n",
    "\n",
    "state_value = [0,0,0,0,0,0,0,10000]\n",
    "\n",
    "for _ in range(10000):\n",
    "    for i in range(len(state_value)-2):\n",
    "        v = 0\n",
    "        if i == 0:\n",
    "            for num in range(1,7):\n",
    "                after = min(i + num, len(state_value)-1)\n",
    "                v += state_value[after]\n",
    "        else:\n",
    "            for num in range(1,7):\n",
    "                after = l_after = max(0, i - num)\n",
    "                v += state_value[after]\n",
    "            \n",
    "        state_value[i] = v/6 + 1\n",
    "        \n",
    "state_value"
   ]
  },
  {
   "cell_type": "code",
   "execution_count": 6,
   "id": "6a3867b8",
   "metadata": {},
   "outputs": [
    {
     "data": {
      "text/plain": [
       "[5362.714285714278,\n",
       " 5719.428571428565,\n",
       " 6076.142857142851,\n",
       " 6432.857142857138,\n",
       " 6789.571428571424,\n",
       " 7146.28571428571,\n",
       " 0,\n",
       " 10000]"
      ]
     },
     "execution_count": 6,
     "metadata": {},
     "output_type": "execute_result"
    }
   ],
   "source": [
    "### policy evaluation random ###\n",
    "\n",
    "state_value = [0,0,0,0,0,0,0,10000]\n",
    "\n",
    "for _ in range(10000):\n",
    "    for i in range(len(state_value)-2):\n",
    "        v = 0\n",
    "        for num in range(1,7):\n",
    "            after = min(i + num, len(state_value)-1)\n",
    "            v += state_value[after]\n",
    "        for num in range(1,7):\n",
    "            after = l_after = max(0, i - num)\n",
    "            v += state_value[after]\n",
    "            \n",
    "        state_value[i] = v/12 + 1\n",
    "        \n",
    "state_value"
   ]
  },
  {
   "cell_type": "code",
   "execution_count": 3,
   "id": "4de55dc7",
   "metadata": {},
   "outputs": [
    {
     "data": {
      "text/plain": [
       "[12.96836419753086,\n",
       " 13.96836419753086,\n",
       " 14.135030864197526,\n",
       " 14.32947530864197,\n",
       " 14.556327160493822,\n",
       " 14.820987654320982,\n",
       " 0,\n",
       " 10000]"
      ]
     },
     "execution_count": 3,
     "metadata": {},
     "output_type": "execute_result"
    }
   ],
   "source": [
    "### value iteration ###\n",
    "state_value = [0,0,0,0,0,0,0,10000]\n",
    "right_value = [0,0,0,0,0,0,0,10000]\n",
    "left_value = [0,0,0,0,0,0,0,10000]\n",
    "\n",
    "for _ in range(10000):\n",
    "    for i in range(len(state_value)-2):\n",
    "        rv, lv = 0, 0\n",
    "        for num in range(1,7):\n",
    "            r_after = min(i + num, len(state_value)-1)\n",
    "            l_after = max(0, i - num)\n",
    "            rv += state_value[r_after]\n",
    "            lv += state_value[l_after]\n",
    "            \n",
    "        right_value[i] = rv/6 + 1\n",
    "        left_value[i] = lv/6 + 1\n",
    "        state_value[i] = min(right_value[i], left_value[i])\n",
    "        \n",
    "state_value"
   ]
  },
  {
   "cell_type": "code",
   "execution_count": 18,
   "id": "56c3fbd0",
   "metadata": {},
   "outputs": [
    {
     "name": "stdout",
     "output_type": "stream",
     "text": [
      "right_value:  [12.130348152107954, 1268.6659540614974, 3244.784041268459, 5265.852363247192, 5517.812957964993, 8719.14330807059, 0, 10000]\n",
      "left_value:  [13.67985320409583, 13.283406722353575, 13.288897659080073, 13.554885085152371, 13.27156552069234, 13.495398498952756, 0, 10000]\n",
      "state_value:  [12.130348152107954, 13.283406722353575, 13.288897659080073, 13.554885085152371, 13.27156552069234, 13.495398498952756, 0, 10000]\n"
     ]
    }
   ],
   "source": [
    "### Q learning ###\n",
    "state_value = [0,0,0,0,0,0,0,10000]\n",
    "right_value = [0,0,0,0,0,0,0,10000]\n",
    "left_value = [0,0,0,0,0,0,0,10000]\n",
    "\n",
    "for i in range(1000):\n",
    "    current_state = random.randint(0,5)\n",
    "    next_state = 0\n",
    "\n",
    "    while current_state < 6:\n",
    "        die = random.randint(1,6)\n",
    "        if random.random() > 0.5: #left\n",
    "            next_state = max(0, current_state - die)\n",
    "            q = 1 + state_value[next_state]\n",
    "            left_value[current_state] = 0.1*q + 0.9*left_value[current_state]\n",
    "        else:\n",
    "            next_state = min(len(state_value)-1, current_state + die)\n",
    "            q = 1 + state_value[next_state]\n",
    "            right_value[current_state] = 0.1*q + 0.9*right_value[current_state]\n",
    "\n",
    "        state_value[current_state] = min(left_value[current_state], right_value[current_state])\n",
    "\n",
    "        if False:\n",
    "            print(\"current_state: {}\".format(current_state+1))\n",
    "            print(\"next_state: {}\".format(next_state+1))\n",
    "            print(\"right_value: \", right_value)\n",
    "            print(\"left_value: \", left_value)\n",
    "            print(\"state_value: \", state_value)\n",
    "\n",
    "        current_state = next_state\n",
    "        \n",
    "print(\"right_value: \", right_value)\n",
    "print(\"left_value: \", left_value)\n",
    "print(\"state_value: \", state_value)"
   ]
  },
  {
   "cell_type": "code",
   "execution_count": null,
   "id": "c6ea8c62",
   "metadata": {},
   "outputs": [],
   "source": []
  }
 ],
 "metadata": {
  "kernelspec": {
   "display_name": "Python 3 (ipykernel)",
   "language": "python",
   "name": "python3"
  },
  "language_info": {
   "codemirror_mode": {
    "name": "ipython",
    "version": 3
   },
   "file_extension": ".py",
   "mimetype": "text/x-python",
   "name": "python",
   "nbconvert_exporter": "python",
   "pygments_lexer": "ipython3",
   "version": "3.10.6"
  }
 },
 "nbformat": 4,
 "nbformat_minor": 5
}
