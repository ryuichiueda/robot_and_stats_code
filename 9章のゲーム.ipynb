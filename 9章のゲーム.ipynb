{
 "cells": [
  {
   "cell_type": "code",
   "execution_count": 8,
   "id": "92763493",
   "metadata": {},
   "outputs": [
    {
     "data": {
      "text/plain": [
       "[12.96836419753086,\n",
       " 13.96836419753086,\n",
       " 14.135030864197526,\n",
       " 14.32947530864197,\n",
       " 14.556327160493822,\n",
       " 14.820987654320982,\n",
       " 0,\n",
       " 10000]"
      ]
     },
     "execution_count": 8,
     "metadata": {},
     "output_type": "execute_result"
    }
   ],
   "source": [
    "import random, math\n",
    "\n",
    "state_value = [0,0,0,0,0,0,0,10000]\n",
    "right_value = [0,0,0,0,0,0,0,10000]\n",
    "left_value = [0,0,0,0,0,0,0,10000]\n",
    "\n",
    "for _ in range(10000):\n",
    "    for i in range(len(state_value)-2):\n",
    "        rv, lv = 0, 0\n",
    "        for num in range(1,7):\n",
    "            r_after = min(i + num, len(state_value)-1)\n",
    "            l_after = max(0, i - num)\n",
    "            rv += state_value[r_after]\n",
    "            lv += state_value[l_after]\n",
    "            \n",
    "        right_value[i] = rv/6 + 1\n",
    "        left_value[i] = lv/6 + 1\n",
    "        state_value[i] = min(right_value[i], left_value[i])\n",
    "        \n",
    "state_value"
   ]
  },
  {
   "cell_type": "code",
   "execution_count": null,
   "id": "4de55dc7",
   "metadata": {},
   "outputs": [],
   "source": []
  }
 ],
 "metadata": {
  "kernelspec": {
   "display_name": "Python 3 (ipykernel)",
   "language": "python",
   "name": "python3"
  },
  "language_info": {
   "codemirror_mode": {
    "name": "ipython",
    "version": 3
   },
   "file_extension": ".py",
   "mimetype": "text/x-python",
   "name": "python",
   "nbconvert_exporter": "python",
   "pygments_lexer": "ipython3",
   "version": "3.10.6"
  }
 },
 "nbformat": 4,
 "nbformat_minor": 5
}
