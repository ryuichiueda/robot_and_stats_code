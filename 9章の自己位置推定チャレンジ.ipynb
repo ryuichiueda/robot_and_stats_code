{
 "cells": [
  {
   "cell_type": "code",
   "execution_count": 2,
   "id": "92763493",
   "metadata": {},
   "outputs": [],
   "source": [
    "import random, math\n",
    "\n",
    "def trial(is_a):\n",
    "    rnd = random.random()\n",
    "    if is_a:\n",
    "        if rnd < 0.2: return 100\n",
    "        if rnd < 0.8: return 10\n",
    "        return 0\n",
    "    else:\n",
    "        if rnd < 0.5: return 50\n",
    "        return 0"
   ]
  },
  {
   "cell_type": "code",
   "execution_count": 12,
   "id": "3a3eedf7",
   "metadata": {},
   "outputs": [],
   "source": [
    "a = [trial(True) for e in range(10)]"
   ]
  },
  {
   "cell_type": "code",
   "execution_count": 13,
   "id": "9e99ffc3",
   "metadata": {},
   "outputs": [
    {
     "data": {
      "text/plain": [
       "[10, 0, 10, 0, 0, 0, 100, 10, 10, 0]"
      ]
     },
     "execution_count": 13,
     "metadata": {},
     "output_type": "execute_result"
    }
   ],
   "source": [
    "a"
   ]
  },
  {
   "cell_type": "code",
   "execution_count": 26,
   "id": "4c2d673c",
   "metadata": {},
   "outputs": [],
   "source": [
    "def other_teams(ab_list):\n",
    "    result = [trial(w) for w in ab_list]\n",
    "    \n",
    "    return result"
   ]
  },
  {
   "cell_type": "code",
   "execution_count": 27,
   "id": "0f335363",
   "metadata": {},
   "outputs": [
    {
     "data": {
      "text/plain": [
       "[10, 50, 50, 50, 10, 100, 100, 50, 50, 50]"
      ]
     },
     "execution_count": 27,
     "metadata": {},
     "output_type": "execute_result"
    }
   ],
   "source": []
  },
  {
   "cell_type": "code",
   "execution_count": 35,
   "id": "c8c69931",
   "metadata": {},
   "outputs": [],
   "source": [
    "def competition1(teamnum):\n",
    "    results = other_teams([random.random() > 0.5 for _ in range(teamnum)])\n",
    "    \n",
    "    case_a = trial(True)\n",
    "    case_b = trial(False)\n",
    "    \n",
    "    result_a = case_a >= max(results)\n",
    "    result_b = case_b >= max(results)\n",
    "    \n",
    "    return result_a, result_b, case_a, case_b"
   ]
  },
  {
   "cell_type": "code",
   "execution_count": 51,
   "id": "c27e9dee",
   "metadata": {},
   "outputs": [
    {
     "data": {
      "text/plain": [
       "(True, True, 100, 50)"
      ]
     },
     "execution_count": 51,
     "metadata": {},
     "output_type": "execute_result"
    }
   ],
   "source": [
    "competition1(10)"
   ]
  },
  {
   "cell_type": "code",
   "execution_count": null,
   "id": "ee5bb968",
   "metadata": {},
   "outputs": [],
   "source": []
  }
 ],
 "metadata": {
  "kernelspec": {
   "display_name": "Python 3 (ipykernel)",
   "language": "python",
   "name": "python3"
  },
  "language_info": {
   "codemirror_mode": {
    "name": "ipython",
    "version": 3
   },
   "file_extension": ".py",
   "mimetype": "text/x-python",
   "name": "python",
   "nbconvert_exporter": "python",
   "pygments_lexer": "ipython3",
   "version": "3.10.6"
  }
 },
 "nbformat": 4,
 "nbformat_minor": 5
}
