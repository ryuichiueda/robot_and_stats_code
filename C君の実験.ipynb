{
 "cells": [
  {
   "cell_type": "code",
   "execution_count": 1,
   "metadata": {},
   "outputs": [],
   "source": [
    "b = [[(e*0.01, 1/101) for e in range(0,101)]]\n",
    "a = [[(e*0.01, 1/101) for e in range(0,101)]]"
   ]
  },
  {
   "cell_type": "code",
   "execution_count": 2,
   "metadata": {},
   "outputs": [],
   "source": [
    "import copy\n",
    "def posterior(success, prior):\n",
    "    post_probs = [(t,p*t) if success else (t, p*(1-t)) for (t, p) in prior]\n",
    "    s = sum([e[1] for e in post_probs])\n",
    "    return [(e[0], e[1]/s) for e in post_probs]"
   ]
  },
  {
   "cell_type": "code",
   "execution_count": 3,
   "metadata": {},
   "outputs": [],
   "source": [
    "for i in range(101):\n",
    "    b.append(posterior(i%5 >= 2, b[i]))\n",
    "    a.append(posterior(True, a[i]))"
   ]
  },
  {
   "cell_type": "code",
   "execution_count": 5,
   "metadata": {},
   "outputs": [
    {
     "name": "stdout",
     "output_type": "stream",
     "text": [
      "0.5049504950495307\n",
      "0.09180982736517879\n",
      "0.017823263878191303\n",
      "0.00347330343897604\n",
      "0.0006775357247560957\n",
      "0.00013221341767169533\n",
      "2.5803219262837643e-05\n",
      "5.035975411473507e-06\n",
      "9.828391412257122e-07\n",
      "1.9180415143889672e-07\n",
      "3.7428537550333206e-08\n",
      "7.303186066754575e-09\n",
      "1.4248971841175154e-09\n",
      "2.7798053253949446e-10\n",
      "5.42255096677726e-11\n",
      "1.0576707284918298e-11\n",
      "2.062787135107787e-12\n",
      "4.0226770889260113e-13\n",
      "7.84391140597095e-14\n",
      "1.529350383862867e-14\n",
      "2.98152385582002e-15\n"
     ]
    }
   ],
   "source": [
    "for i in range(101):\n",
    "    ans = 0.0\n",
    "    for be in b[i]:\n",
    "        for ae in a[i]:\n",
    "            if be[0] >= ae[0]:\n",
    "                ans += be[1]* ae[1]\n",
    "\n",
    "    if i%5 == 0:\n",
    "        print(ans)"
   ]
  },
  {
   "cell_type": "code",
   "execution_count": null,
   "metadata": {},
   "outputs": [],
   "source": []
  }
 ],
 "metadata": {
  "kernelspec": {
   "display_name": "Python 3 (ipykernel)",
   "language": "python",
   "name": "python3"
  },
  "language_info": {
   "codemirror_mode": {
    "name": "ipython",
    "version": 3
   },
   "file_extension": ".py",
   "mimetype": "text/x-python",
   "name": "python",
   "nbconvert_exporter": "python",
   "pygments_lexer": "ipython3",
   "version": "3.10.6"
  }
 },
 "nbformat": 4,
 "nbformat_minor": 4
}
